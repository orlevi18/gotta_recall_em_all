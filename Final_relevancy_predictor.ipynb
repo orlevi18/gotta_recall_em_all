{
 "cells": [
  {
   "cell_type": "code",
   "execution_count": 6,
   "metadata": {},
   "outputs": [
    {
     "name": "stdout",
     "output_type": "stream",
     "text": [
      "Populating the interactive namespace from numpy and matplotlib\n"
     ]
    }
   ],
   "source": [
    "import pandas as pd\n",
    "from sklearn import tree\n",
    "from sklearn.model_selection import train_test_split\n",
    "from pandas import read_csv, DataFrame\n",
    "from os import system\n",
    "from sklearn.ensemble import ExtraTreesClassifier\n",
    "from sklearn.ensemble import RandomForestClassifier\n",
    "from sklearn.datasets import make_classification\n",
    "from sklearn.tree import export_graphviz\n",
    "from sklearn.ensemble import RandomForestClassifier\n",
    "from sklearn.ensemble import GradientBoostingClassifier\n",
    "from sklearn import metrics\n",
    "import matplotlib.pyplot as plt\n",
    "%pylab inline"
   ]
  },
  {
   "cell_type": "code",
   "execution_count": 7,
   "metadata": {},
   "outputs": [],
   "source": [
    "#from pip._internal import main as main_pip\n",
    "#main_pip(['install','sklearn', '--upgrade'])"
   ]
  },
  {
   "cell_type": "code",
   "execution_count": 10,
   "metadata": {},
   "outputs": [],
   "source": [
    "input_data    = 'labeled_results_20190710.tsv'\n",
    "input_data = 'results/labeled_results.tsv'\n",
    "file_to_write = 'relevance_predictions_rf_20190711.csv'"
   ]
  },
  {
   "cell_type": "markdown",
   "metadata": {},
   "source": [
    "# Read data"
   ]
  },
  {
   "cell_type": "code",
   "execution_count": 11,
   "metadata": {},
   "outputs": [
    {
     "name": "stderr",
     "output_type": "stream",
     "text": [
      "C:\\Users\\cpieterse\\AppData\\Local\\Continuum\\anaconda3\\lib\\site-packages\\IPython\\core\\interactiveshell.py:3049: DtypeWarning: Columns (4,7) have mixed types. Specify dtype option on import or set low_memory=False.\n",
      "  interactivity=interactivity, compiler=compiler, result=result)\n"
     ]
    }
   ],
   "source": [
    "df = pd.read_csv(input_data,delimiter='\\t').fillna(0.)\n"
   ]
  },
  {
   "cell_type": "markdown",
   "metadata": {},
   "source": [
    "# Create normalised columns"
   ]
  },
  {
   "cell_type": "code",
   "execution_count": 12,
   "metadata": {},
   "outputs": [],
   "source": [
    "feature_cols_es = [x for x in df.columns if 'score_title' in x]\n",
    "feature_cols_domcat = [x for x in df.columns if (('L' in x) and ('_score' in x)) ]+['category_breadcrumb_score']\n",
    "\n",
    "feature_cols_es_normalised = []\n",
    "for n_col in feature_cols_es:\n",
    "    new_col_name = n_col+'_normalised'\n",
    "    df[new_col_name] = df[n_col] / df['query_tokens'].astype(float)\n",
    "    feature_cols_es_normalised.append(new_col_name)"
   ]
  },
  {
   "cell_type": "markdown",
   "metadata": {},
   "source": [
    "# Split labeled and unlabeled data"
   ]
  },
  {
   "cell_type": "code",
   "execution_count": 13,
   "metadata": {},
   "outputs": [],
   "source": [
    "df_labeled = df[df['relevant']!=0]\n",
    "df_unlabeled = df[df['relevant']==0]"
   ]
  },
  {
   "cell_type": "code",
   "execution_count": 140,
   "metadata": {},
   "outputs": [
    {
     "name": "stderr",
     "output_type": "stream",
     "text": [
      "C:\\Users\\cpieterse\\AppData\\Local\\Continuum\\anaconda3\\lib\\site-packages\\ipykernel_launcher.py:9: SettingWithCopyWarning: \n",
      "A value is trying to be set on a copy of a slice from a DataFrame.\n",
      "Try using .loc[row_indexer,col_indexer] = value instead\n",
      "\n",
      "See the caveats in the documentation: http://pandas.pydata.org/pandas-docs/stable/indexing.html#indexing-view-versus-copy\n",
      "  if __name__ == '__main__':\n"
     ]
    }
   ],
   "source": [
    "sample_weights = pd.merge(left=df_labeled[['queryid', 'adid']] \n",
    "                       , right=df_labeled[['queryid', 'relevant']].groupby('queryid').count()\n",
    "                          , how='inner', on='queryid'\n",
    "                       )\n",
    "sample_weights['sample_weight'] = 1/sample_weights['relevant']\n",
    "sample_weights = sample_weights[['queryid', 'adid','sample_weight']]\n",
    "\n",
    "df_labeled = pd.merge(df_labeled, sample_weights, how='inner', on=['queryid','adid'])\n",
    "df_unlabeled['sample_weight'] = np.ones(df_unlabeled.shape[0]) "
   ]
  },
  {
   "cell_type": "markdown",
   "metadata": {},
   "source": [
    "# Train and predict "
   ]
  },
  {
   "cell_type": "code",
   "execution_count": 123,
   "metadata": {},
   "outputs": [],
   "source": [
    "def split_test_train(df,model_features_columns,model_target_column):\n",
    "    X = df[model_features_columns]#.values\n",
    "    y = df[[model_target_column]]#.values\n",
    "\n",
    "    df_x_train, df_x_test, df_y_train, df_y_test = train_test_split(X, y, test_size=0.2, random_state=42)\n",
    "    \n",
    "    \n",
    "    return df_x_train, df_x_test, df_y_train, df_y_test\n",
    "\n",
    "def train(x_train, y_train, model_features_columns,\n",
    "                     model_type='rf'\n",
    "          , sample_weight=None\n",
    "          , **kwargs):\n",
    "\n",
    "    if model_type=='rf':\n",
    "        # Create a random forest Classifier\n",
    "        clf = RandomForestClassifier(n_estimators=50, max_depth=10,\n",
    "                                 random_state=0, **kwargs)\n",
    "    elif model_type == 'gbt':\n",
    "        clf = GradientBoostingClassifier(random_state=0,\n",
    "                                        n_estimators=200, **kwargs)\n",
    "\n",
    "    print(\"TRAINING . . . . . . \")\n",
    "    # Train the Classifier to take the training features and learn how they relate\n",
    "    # to the training y (the species)\n",
    "    clf.fit(x_train[model_features_columns].values, y_train.values.ravel(), sample_weight)\n",
    "\n",
    "    print(\"DONE training\")\n",
    "    \n",
    "    return clf\n",
    "\n",
    "def predict(x_list,model_features_columns,clf,model_type='rf'):\n",
    "    \n",
    "    for i,dataset in enumerate(x_list):# Add predictions to dataframe\n",
    "        x_list[i]['prediction_'+model_type] = clf.predict(x_list[i][model_features_columns].values)\n",
    "        \n",
    "\n",
    "        x_list[i]['probability_class_1_'+model_type] =    \\\n",
    "                    [x[1] for x in clf.predict_proba(x_list[i][model_features_columns].values)] \n",
    "\n",
    "    print(\"DONE predicting\") \n",
    "    \n",
    "    return x_list\n",
    "    \n",
    "def add_labels_to_test_and_train_data(x_train,x_test,y_train,y_test):\n",
    "     # Add labels\n",
    "    x_test['relevant'] = y_test.values\n",
    "    x_train['relevant'] = y_train.values \n",
    "    return x_test,x_train\n"
   ]
  },
  {
   "cell_type": "code",
   "execution_count": 128,
   "metadata": {},
   "outputs": [
    {
     "name": "stdout",
     "output_type": "stream",
     "text": [
      "Index(['score_title.title_shingles', 'score_title.title_stems',\n",
      "       'score_title.title_tokens', 'score_title_category.stems',\n",
      "       'score_title_customized.stems', 'score_title_category_customized.stems',\n",
      "       'L2_score', 'L3_score', 'L4_score', 'L5_score', 'L~_score',\n",
      "       'category_breadcrumb_score', 'score_title.title_shingles_normalised',\n",
      "       'score_title.title_stems_normalised',\n",
      "       'score_title.title_tokens_normalised',\n",
      "       'score_title_category.stems_normalised',\n",
      "       'score_title_customized.stems_normalised',\n",
      "       'score_title_category_customized.stems_normalised', 'queryid',\n",
      "       'sample_weight'],\n",
      "      dtype='object')\n",
      "TRAINING . . . . . . \n",
      "DONE training\n",
      "TRAINING . . . . . . \n",
      "DONE training\n",
      "TRAINING . . . . . . \n",
      "DONE training\n",
      "DONE predicting\n",
      "DONE predicting\n",
      "DONE predicting\n"
     ]
    }
   ],
   "source": [
    "model_features_columns = feature_cols_es + feature_cols_domcat + feature_cols_es_normalised + ['queryid'] + ['sample_weight']\n",
    "\n",
    "model_target_column = 'relevant'\n",
    "\n",
    "# Split in test and train\n",
    "x_train, x_test, y_train, y_test = split_test_train(df_labeled,model_features_columns,model_target_column)\n",
    "print(x_train.columns)\n",
    "\n",
    "# Train and predict two models\n",
    "clf_rf                 = train(x_train, y_train, model_features_columns, model_type='rf')\n",
    "clf_rf_minsplit        = train(x_train, y_train, model_features_columns, model_type='rf'\n",
    "                               , min_samples_split = 2\n",
    "                               , sample_weight=x_train['sample_weight']\n",
    "                               , bootstrap=False\n",
    "                               , class_weight='balanced') # dict(1=3,-1,1))\n",
    "clf_gbt                = train(x_train, y_train, model_features_columns, model_type='gbt')\n",
    "\n",
    "[x_train,x_test]  = predict([x_train,x_test],model_features_columns,clf_rf,model_type='rf')\n",
    "[x_train,x_test] = predict([x_train,x_test],model_features_columns,clf_rf_minsplit,model_type='rf_minsplit')\n",
    "[x_train,x_test] = predict([x_train,x_test],model_features_columns,clf_gbt,model_type='gbt')\n",
    "\n",
    "\n",
    "# Add labels to final dataframes\n",
    "x_test,x_train = add_labels_to_test_and_train_data(x_test,x_train,y_test,y_train)"
   ]
  },
  {
   "cell_type": "markdown",
   "metadata": {},
   "source": [
    "# Feature importances"
   ]
  },
  {
   "cell_type": "code",
   "execution_count": 129,
   "metadata": {},
   "outputs": [],
   "source": [
    "def make_features_plot(model_features_columns,rf_fit_once):\n",
    "    df_features = pd.DataFrame(model_features_columns,columns=['features'])\n",
    "    df_features['importances'] = rf_fit_once.feature_importances_\n",
    "    df_features\\\n",
    "            .set_index('features')\\\n",
    "            .sort_values(by='importances',ascending=False)\\\n",
    "            .plot(kind='bar')"
   ]
  },
  {
   "cell_type": "code",
   "execution_count": 130,
   "metadata": {},
   "outputs": [
    {
     "data": {
      "image/png": "[encoded data removed]",
      "text/plain": [
       "<Figure size 432x288 with 1 Axes>"
      ]
     },
     "metadata": {
      "needs_background": "light"
     },
     "output_type": "display_data"
    }
   ],
   "source": [
    "make_features_plot(model_features_columns,clf_rf)"
   ]
  },
  {
   "cell_type": "markdown",
   "metadata": {},
   "source": [
    "# Evaluation"
   ]
  },
  {
   "cell_type": "code",
   "execution_count": 131,
   "metadata": {},
   "outputs": [],
   "source": [
    "prediction_columns = [ 'prediction_rf', \n",
    "    'prediction_rf_minsplit'\n",
    "                       #'prediction_RF_cross_validate',\n",
    "                      # 'prediction_gbt'\n",
    "                     ]"
   ]
  },
  {
   "cell_type": "code",
   "execution_count": 132,
   "metadata": {},
   "outputs": [],
   "source": [
    "def calculate_performance(test_pd,train_pd,prediction_columns, model_target_column=''):\n",
    "\n",
    "    data_sets  = []\n",
    "    models     = []\n",
    "    accuracies = []\n",
    "    precisions = []\n",
    "    recalls    = []\n",
    "    f1_scores  = []\n",
    "\n",
    "    for test_or_train in ['test','train']:\n",
    "        if test_or_train == 'test':\n",
    "            data_set = test_pd\n",
    "        if test_or_train == 'train':\n",
    "            data_set = train_pd\n",
    "\n",
    "        for model_prediction_columns in prediction_columns:\n",
    "            print(model_prediction_columns)\n",
    "\n",
    "            accuracy = metrics.accuracy_score(data_set[model_target_column],\n",
    "                                              data_set[prediction_columns])\n",
    "\n",
    "            precision = metrics.precision_score(data_set[model_target_column],\n",
    "                                                data_set[prediction_columns])\n",
    "\n",
    "            recall = metrics.recall_score(data_set[model_target_column],\n",
    "                                          data_set[prediction_columns])\n",
    "\n",
    "            f1_score = metrics.f1_score(data_set[model_target_column],\n",
    "                                        data_set[prediction_columns]) \n",
    "\n",
    "            data_sets.append(test_or_train)\n",
    "            models.append(model_prediction_columns.replace('prediction_',''))\n",
    "            accuracies.append(accuracy)\n",
    "            precisions.append(precision)\n",
    "            recalls.append(recall)\n",
    "            f1_scores.append(f1_score)\n",
    "\n",
    "\n",
    "    evaluation_stats = pd.DataFrame([\n",
    "                                        data_sets,\n",
    "                                        models,\n",
    "                                        accuracies,\n",
    "                                        precisions,\n",
    "                                        recalls,\n",
    "                                        f1_scores\n",
    "    ]\n",
    "                                   ).transpose()\n",
    "\n",
    "    evaluation_stats.columns = [\n",
    "                                        'data_sets',\n",
    "                                        'models',\n",
    "                                        'accuracy',\n",
    "                                        'precision',\n",
    "                                        'recall',\n",
    "                                        'f1_score'\n",
    "    ]\n",
    "\n",
    "    evaluation_stats.sort_values('accuracy')\n",
    "    \n",
    "    return evaluation_stats"
   ]
  },
  {
   "cell_type": "code",
   "execution_count": 133,
   "metadata": {},
   "outputs": [
    {
     "name": "stdout",
     "output_type": "stream",
     "text": [
      "prediction_rf\n",
      "prediction_rf\n",
      "prediction_rf_minsplit\n",
      "prediction_rf_minsplit\n"
     ]
    }
   ],
   "source": [
    "evaluation_stats = pd.concat( [calculate_performance(x_test,x_train,\n",
    "                                         [col],\n",
    "                                         model_target_column='relevant')\n",
    "                              for col in prediction_columns])"
   ]
  },
  {
   "cell_type": "code",
   "execution_count": 134,
   "metadata": {},
   "outputs": [
    {
     "data": {
      "text/plain": [
       "['prediction_rf', 'prediction_rf_minsplit']"
      ]
     },
     "execution_count": 134,
     "metadata": {},
     "output_type": "execute_result"
    }
   ],
   "source": [
    "prediction_columns"
   ]
  },
  {
   "cell_type": "code",
   "execution_count": 135,
   "metadata": {},
   "outputs": [
    {
     "data": {
      "text/html": [
       "<div>\n",
       "<style scoped>\n",
       "    .dataframe tbody tr th:only-of-type {\n",
       "        vertical-align: middle;\n",
       "    }\n",
       "\n",
       "    .dataframe tbody tr th {\n",
       "        vertical-align: top;\n",
       "    }\n",
       "\n",
       "    .dataframe thead th {\n",
       "        text-align: right;\n",
       "    }\n",
       "</style>\n",
       "<table border=\"1\" class=\"dataframe\">\n",
       "  <thead>\n",
       "    <tr style=\"text-align: right;\">\n",
       "      <th></th>\n",
       "      <th>data_sets</th>\n",
       "      <th>models</th>\n",
       "      <th>accuracy</th>\n",
       "      <th>precision</th>\n",
       "      <th>recall</th>\n",
       "      <th>f1_score</th>\n",
       "    </tr>\n",
       "  </thead>\n",
       "  <tbody>\n",
       "    <tr>\n",
       "      <th>0</th>\n",
       "      <td>test</td>\n",
       "      <td>rf</td>\n",
       "      <td>0.816256</td>\n",
       "      <td>0.818812</td>\n",
       "      <td>0.965526</td>\n",
       "      <td>0.886138</td>\n",
       "    </tr>\n",
       "    <tr>\n",
       "      <th>1</th>\n",
       "      <td>train</td>\n",
       "      <td>rf</td>\n",
       "      <td>0.783739</td>\n",
       "      <td>0.79498</td>\n",
       "      <td>0.949402</td>\n",
       "      <td>0.865356</td>\n",
       "    </tr>\n",
       "    <tr>\n",
       "      <th>0</th>\n",
       "      <td>test</td>\n",
       "      <td>rf_minsplit</td>\n",
       "      <td>0.765294</td>\n",
       "      <td>0.89488</td>\n",
       "      <td>0.773971</td>\n",
       "      <td>0.830046</td>\n",
       "    </tr>\n",
       "    <tr>\n",
       "      <th>1</th>\n",
       "      <td>train</td>\n",
       "      <td>rf_minsplit</td>\n",
       "      <td>0.729198</td>\n",
       "      <td>0.856052</td>\n",
       "      <td>0.757408</td>\n",
       "      <td>0.803714</td>\n",
       "    </tr>\n",
       "  </tbody>\n",
       "</table>\n",
       "</div>"
      ],
      "text/plain": [
       "  data_sets       models  accuracy precision    recall  f1_score\n",
       "0      test           rf  0.816256  0.818812  0.965526  0.886138\n",
       "1     train           rf  0.783739   0.79498  0.949402  0.865356\n",
       "0      test  rf_minsplit  0.765294   0.89488  0.773971  0.830046\n",
       "1     train  rf_minsplit  0.729198  0.856052  0.757408  0.803714"
      ]
     },
     "execution_count": 135,
     "metadata": {},
     "output_type": "execute_result"
    }
   ],
   "source": [
    "evaluation_stats.head()"
   ]
  },
  {
   "cell_type": "markdown",
   "metadata": {
    "collapsed": true
   },
   "source": [
    "# Predict for unlabelled set"
   ]
  },
  {
   "cell_type": "code",
   "execution_count": 141,
   "metadata": {},
   "outputs": [
    {
     "name": "stderr",
     "output_type": "stream",
     "text": [
      "C:\\Users\\cpieterse\\AppData\\Local\\Continuum\\anaconda3\\lib\\site-packages\\ipykernel_launcher.py:35: SettingWithCopyWarning: \n",
      "A value is trying to be set on a copy of a slice from a DataFrame.\n",
      "Try using .loc[row_indexer,col_indexer] = value instead\n",
      "\n",
      "See the caveats in the documentation: http://pandas.pydata.org/pandas-docs/stable/indexing.html#indexing-view-versus-copy\n",
      "C:\\Users\\cpieterse\\AppData\\Local\\Continuum\\anaconda3\\lib\\site-packages\\ipykernel_launcher.py:39: SettingWithCopyWarning: \n",
      "A value is trying to be set on a copy of a slice from a DataFrame.\n",
      "Try using .loc[row_indexer,col_indexer] = value instead\n",
      "\n",
      "See the caveats in the documentation: http://pandas.pydata.org/pandas-docs/stable/indexing.html#indexing-view-versus-copy\n"
     ]
    },
    {
     "name": "stdout",
     "output_type": "stream",
     "text": [
      "DONE predicting\n"
     ]
    },
    {
     "name": "stderr",
     "output_type": "stream",
     "text": [
      "C:\\Users\\cpieterse\\AppData\\Local\\Continuum\\anaconda3\\lib\\site-packages\\ipykernel_launcher.py:2: SettingWithCopyWarning: \n",
      "A value is trying to be set on a copy of a slice from a DataFrame.\n",
      "Try using .loc[row_indexer,col_indexer] = value instead\n",
      "\n",
      "See the caveats in the documentation: http://pandas.pydata.org/pandas-docs/stable/indexing.html#indexing-view-versus-copy\n",
      "  \n"
     ]
    }
   ],
   "source": [
    "[df_unlabeled] = predict([df_unlabeled],model_features_columns,clf_rf,model_type='rf')\n",
    "df_unlabeled['prediction_rf'] = df_unlabeled['prediction_rf'].apply(lambda x: 0 if x==-1 else x)"
   ]
  },
  {
   "cell_type": "code",
   "execution_count": 142,
   "metadata": {},
   "outputs": [
    {
     "data": {
      "text/plain": [
       "1.0    260131\n",
       "0.0     76342\n",
       "Name: prediction_rf, dtype: int64"
      ]
     },
     "execution_count": 142,
     "metadata": {},
     "output_type": "execute_result"
    }
   ],
   "source": [
    "df_unlabeled['prediction_rf'].value_counts()"
   ]
  },
  {
   "cell_type": "code",
   "execution_count": 155,
   "metadata": {},
   "outputs": [
    {
     "data": {
      "text/plain": [
       "Index(['Unnamed: 0', 'queryid', 'adid', 'score', 'query', 'query_tokens',\n",
       "       'category', 'title', 'score_title.title_shingles',\n",
       "       'score_title.title_stems', 'score_title.title_tokens',\n",
       "       'score_title_category.stems', 'score_title_customized.stems',\n",
       "       'score_title_category_customized.stems', 'Unnamed: 0.1', 'relevant',\n",
       "       'category_L1', 'category_L2', 'category_L3', 'category_L4',\n",
       "       'category_L5', 'category_L-1', 'category_L~',\n",
       "       'category_breadcrumb_score', 'L2_score', 'L3_score', 'L4_score',\n",
       "       'L5_score', 'L~_score', 'score_title.title_shingles_normalised',\n",
       "       'score_title.title_stems_normalised',\n",
       "       'score_title.title_tokens_normalised',\n",
       "       'score_title_category.stems_normalised',\n",
       "       'score_title_customized.stems_normalised',\n",
       "       'score_title_category_customized.stems_normalised', 'prediction_rf',\n",
       "       'probability_class_1_rf', 'sample_weight'],\n",
       "      dtype='object')"
      ]
     },
     "execution_count": 155,
     "metadata": {},
     "output_type": "execute_result"
    }
   ],
   "source": [
    "df_unlabeled.to_csv(file_to_write,index=False)"
   ]
  },
  {
   "cell_type": "code",
   "execution_count": null,
   "metadata": {},
   "outputs": [],
   "source": []
  },
  {
   "cell_type": "code",
   "execution_count": 151,
   "metadata": {},
   "outputs": [],
   "source": [
    "def get_metrics_at_threshold(df, column, threshold):\n",
    "    real_pos = list(np.sign(df['relevant']))\n",
    "    pred_pos = list(df[column].apply(lambda x: 1 if x>=threshold else -1))\n",
    "    score = metrics.f1_score(real_pos,pred_pos, pos_label=1)\n",
    "    return dict(t=threshold\n",
    "                , score=score\n",
    "                , recall=metrics.recall_score(real_pos,pred_pos)\n",
    "                , accuracy=metrics.accuracy_score(real_pos,pred_pos)\n",
    "                , precision=metrics.precision_score(real_pos,pred_pos))\n",
    "\n",
    "def best_threshold(df, column, verbose=False):\n",
    "    min_t = df[column].min()\n",
    "    max_t = df[column].max()\n",
    "    best_score = dict(t=min_t, score=-100)\n",
    "    real_pos = list(np.sign(df['relevant']))\n",
    "    \n",
    "    for i in range(100):\n",
    "        t = min_t + i * (max_t-min_t)/(100-1)\n",
    "        pred_pos = list(df[column].apply(lambda x: 1 if x>=t else -1))\n",
    "        score = metrics.f1_score(real_pos,pred_pos, pos_label=1)\n",
    "        if score > best_score['score']:\n",
    "            best_score = dict(t=t\n",
    "                              , score=score\n",
    "                              , recall=metrics.recall_score(real_pos,pred_pos)\n",
    "                              , accuracy=metrics.accuracy_score(real_pos,pred_pos)\n",
    "                              , precision=metrics.precision_score(real_pos,pred_pos))\n",
    "            if verbose:\n",
    "                print(best_score)\n",
    "    return best_score\n",
    "    "
   ]
  },
  {
   "cell_type": "code",
   "execution_count": 156,
   "metadata": {},
   "outputs": [],
   "source": [
    "best_t = best_threshold(x_train, column='probability_class_1_rf')"
   ]
  },
  {
   "cell_type": "code",
   "execution_count": 157,
   "metadata": {},
   "outputs": [
    {
     "data": {
      "text/plain": [
       "{'t': 0.5910672940622563,\n",
       " 'score': 0.8855614973262033,\n",
       " 'recall': 0.9396599717356858,\n",
       " 'accuracy': 0.8201566612754891,\n",
       " 'precision': 0.8373530758662799}"
      ]
     },
     "execution_count": 157,
     "metadata": {},
     "output_type": "execute_result"
    }
   ],
   "source": [
    "get_metrics_at_threshold(x_test, column='probability_class_1_rf', threshold=best_t['t'])"
   ]
  },
  {
   "cell_type": "code",
   "execution_count": 158,
   "metadata": {},
   "outputs": [
    {
     "name": "stderr",
     "output_type": "stream",
     "text": [
      "C:\\Users\\cpieterse\\AppData\\Local\\Continuum\\anaconda3\\lib\\site-packages\\ipykernel_launcher.py:1: SettingWithCopyWarning: \n",
      "A value is trying to be set on a copy of a slice from a DataFrame.\n",
      "Try using .loc[row_indexer,col_indexer] = value instead\n",
      "\n",
      "See the caveats in the documentation: http://pandas.pydata.org/pandas-docs/stable/indexing.html#indexing-view-versus-copy\n",
      "  \"\"\"Entry point for launching an IPython kernel.\n"
     ]
    }
   ],
   "source": [
    "df_unlabeled['relevant'] = df_unlabeled['probability_class_1_rf'].apply(lambda x: 1 if x>=best_t['t'] else 0)\n",
    "df_unlabeled[['queryid','adid','relevant']].to_csv(file_to_write.replace('.csv','_t.csv'),index=False)"
   ]
  },
  {
   "cell_type": "code",
   "execution_count": null,
   "metadata": {},
   "outputs": [],
   "source": []
  },
  {
   "cell_type": "code",
   "execution_count": 146,
   "metadata": {},
   "outputs": [
    {
     "data": {
      "text/plain": [
       "{'t': 0.31120539649890083,\n",
       " 'score': 0.8655555555555555,\n",
       " 'recall': 0.944896898284526,\n",
       " 'accuracy': 0.7851344495180111,\n",
       " 'precision': 0.798506369893103}"
      ]
     },
     "execution_count": 146,
     "metadata": {},
     "output_type": "execute_result"
    }
   ],
   "source": [
    "best_threshold(x_train, column='probability_class_1_rf_minsplit')"
   ]
  },
  {
   "cell_type": "code",
   "execution_count": 154,
   "metadata": {},
   "outputs": [
    {
     "data": {
      "text/plain": [
       "{'t': 0.31120539649890083,\n",
       " 'score': 0.8741472948339691,\n",
       " 'recall': 0.9960173011862447,\n",
       " 'accuracy': 0.787619319443123,\n",
       " 'precision': 0.7788493737860827}"
      ]
     },
     "execution_count": 154,
     "metadata": {},
     "output_type": "execute_result"
    }
   ],
   "source": [
    "get_metrics_at_threshold(x_test, column='probability_class_1_rf', threshold=0.31120539649890083)"
   ]
  },
  {
   "cell_type": "code",
   "execution_count": 147,
   "metadata": {},
   "outputs": [
    {
     "data": {
      "text/plain": [
       "(57314385, 39)"
      ]
     },
     "execution_count": 147,
     "metadata": {},
     "output_type": "execute_result"
    }
   ],
   "source": [
    "df_labeled.groupby('queryid').count()\n",
    "df_labeled.shape"
   ]
  }
 ],
 "metadata": {
  "kernelspec": {
   "display_name": "Python 3",
   "language": "python",
   "name": "python3"
  },
  "language_info": {
   "codemirror_mode": {
    "name": "ipython",
    "version": 3
   },
   "file_extension": ".py",
   "mimetype": "text/x-python",
   "name": "python",
   "nbconvert_exporter": "python",
   "pygments_lexer": "ipython3",
   "version": "3.7.3"
  }
 },
 "nbformat": 4,
 "nbformat_minor": 2
}
